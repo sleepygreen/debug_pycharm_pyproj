{
 "cells": [
  {
   "cell_type": "code",
   "execution_count": 2,
   "id": "5e8333d4",
   "metadata": {},
   "outputs": [],
   "source": [
    "from pyproj import Transformer"
   ]
  },
  {
   "cell_type": "code",
   "execution_count": 3,
   "id": "e4313702",
   "metadata": {},
   "outputs": [],
   "source": [
    "test_transformer = Transformer.from_crs(4258, 7405, always_xy=False)\n",
    "result = test_transformer.transform([52.22110275, 52.22110275], [1.62378056917, 1.62378056917], [47.578, 47.578])"
   ]
  },
  {
   "cell_type": "code",
   "execution_count": 4,
   "id": "272aa599",
   "metadata": {},
   "outputs": [
    {
     "data": {
      "text/plain": [
       "([647608.1453521788, 647608.1453521788],\n",
       " [264286.01208450616, 264286.01208450616],\n",
       " [3.0458889567994945, 3.0458889567994945])"
      ]
     },
     "execution_count": 4,
     "metadata": {},
     "output_type": "execute_result"
    }
   ],
   "source": [
    "result"
   ]
  }
 ],
 "metadata": {
  "kernelspec": {
   "display_name": "Python 3 (ipykernel)",
   "language": "python",
   "name": "python3"
  },
  "language_info": {
   "codemirror_mode": {
    "name": "ipython",
    "version": 3
   },
   "file_extension": ".py",
   "mimetype": "text/x-python",
   "name": "python",
   "nbconvert_exporter": "python",
   "pygments_lexer": "ipython3",
   "version": "3.9.6"
  }
 },
 "nbformat": 4,
 "nbformat_minor": 5
}
